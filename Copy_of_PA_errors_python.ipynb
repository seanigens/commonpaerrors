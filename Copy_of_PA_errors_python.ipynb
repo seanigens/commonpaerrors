{
  "cells": [
    {
      "cell_type": "raw",
      "metadata": {
        "id": "Wm7rfPnRrrqm"
      },
      "source": [
        "---\n",
        "title: 'Practice Activity: Basic Syntax'\n",
        "output: html\n",
        "---"
      ]
    },
    {
      "cell_type": "markdown",
      "metadata": {
        "id": "0mbR_4URrrqo"
      },
      "source": [
        "## Overview\n",
        "\n",
        "In this PA, you will will be creating and manipulating basic objects to uncover a top secret message.\n",
        "\n",
        "### Hint 1\n",
        "\n",
        "As you work through this PA, you will encounter some code that does not work as you want it to.  Don't despair!  Errors (when R is unable to run your code) and bugs (when the code doesn't do what you hoped) are a natural part of coding.  Even the best of the best deal with these problems regularly - learning to track down the issue is a skill that you can learn and practice.\n",
        "\n",
        "Google is your friend!  If an error is confusing, copy it into Google and see what other people are saying.  If you don't know how to do something, search for it.\n",
        "\n",
        "### Hint 2\n",
        "\n",
        "Just because there is no error message doesn't mean everything went smoothly.  You should be regularly printing out your objects, to see they contain the information and format that you expect.\n",
        "\n",
        "For example, if you have an object named `my_thing`, you might first want to simply look at the object by typing its name.\n",
        "\n",
        "However, you might also want to make sure it is the right **object type** and/or the right **object structure**.\n"
      ]
    },
    {
      "cell_type": "code",
      "metadata": {
        "id": "D5pSzgxjrrqq",
        "outputId": "5bc47eda-7ed9-4fb7-cacf-f3b979f9729c",
        "colab": {
          "base_uri": "https://localhost:8080/",
          "height": 197
        }
      },
      "source": [
        "type(my_thing)\n",
        "len(my_thing)"
      ],
      "execution_count": 21,
      "outputs": [
        {
          "output_type": "error",
          "ename": "NameError",
          "evalue": "ignored",
          "traceback": [
            "\u001b[0;31m---------------------------------------------------------------------------\u001b[0m",
            "\u001b[0;31mNameError\u001b[0m                                 Traceback (most recent call last)",
            "\u001b[0;32m<ipython-input-21-9b05a9de0cee>\u001b[0m in \u001b[0;36m<cell line: 1>\u001b[0;34m()\u001b[0m\n\u001b[0;32m----> 1\u001b[0;31m \u001b[0mprint\u001b[0m\u001b[0;34m(\u001b[0m\u001b[0mtype\u001b[0m\u001b[0;34m(\u001b[0m\u001b[0mmy_thing\u001b[0m\u001b[0;34m)\u001b[0m\u001b[0;34m)\u001b[0m\u001b[0;34m\u001b[0m\u001b[0;34m\u001b[0m\u001b[0m\n\u001b[0m\u001b[1;32m      2\u001b[0m \u001b[0mprint\u001b[0m\u001b[0;34m(\u001b[0m\u001b[0mlen\u001b[0m\u001b[0;34m(\u001b[0m\u001b[0mmy_thing\u001b[0m\u001b[0;34m)\u001b[0m\u001b[0;34m)\u001b[0m\u001b[0;34m\u001b[0m\u001b[0;34m\u001b[0m\u001b[0m\n",
            "\u001b[0;31mNameError\u001b[0m: name 'my_thing' is not defined"
          ]
        }
      ]
    },
    {
      "cell_type": "markdown",
      "metadata": {
        "id": "QpUJsmq0rrqr"
      },
      "source": [
        "## Part One: Setup\n",
        "\n",
        "Each of the following code chunks will cause an error and/or do the desired task incorrectly.  Find the mistake, and correct it to complete the intended action.\n",
        "\n",
        "\n",
        "\n",
        "\n",
        "1. Create lists containing the upper case letters, lower case letters, and some punctuation marks.\n"
      ]
    },
    {
      "cell_type": "code",
      "metadata": {
        "id": "tk5bezBJrrqs"
      },
      "source": [
        "lower_case = [\"a\", \"b\", \"c\", \"d\", \"e\", \"f\", \"g\", \"h\", \"i\", \"j\", \"k\", \"l\", \"m\", \"n\", \"o\", \"p\", \"q\", \"r\", \"s\", \"t\", \"u\", \"v\", \"w\", \"x\", \"y\", \"z\"]\n",
        "\n",
        "upper_case = [\"A\", \"B\", \"C\", \"D\", \"E\", \"F\", \"G\", \"H\", \"I\", \"J\", \"K\", \"L\", \"M\", \"N\", \"O\", \"P\", \"Q\", \"R\", \"S\", \"T\", \"U\", \"V\", \"W\", \"X\", \"Y\", \"Z\"]\n",
        "\n",
        "punctuation = [\".\", \",\", \"!\", \"?\", \"'\", '\"', \"(\", \")\", \" \", \"-\", \";\", \":\"]"
      ],
      "execution_count": 3,
      "outputs": []
    },
    {
      "cell_type": "markdown",
      "metadata": {
        "id": "ZejwK6urrrqs"
      },
      "source": [
        "2. Make one long list containing all the symbols.  Find the length of this list.\n"
      ]
    },
    {
      "cell_type": "code",
      "metadata": {
        "id": "l8ZVLLXWrrqs",
        "colab": {
          "base_uri": "https://localhost:8080/"
        },
        "outputId": "809bb411-157c-452b-8f97-247fcbf04e6e"
      },
      "source": [
        "all_symbols = [lower_case, upper_case, punctuation]\n",
        "\n",
        "len(all_symbols)"
      ],
      "execution_count": 4,
      "outputs": [
        {
          "output_type": "execute_result",
          "data": {
            "text/plain": [
              "3"
            ]
          },
          "metadata": {},
          "execution_count": 4
        }
      ]
    },
    {
      "cell_type": "markdown",
      "metadata": {
        "id": "HvgV76Dbrrqt"
      },
      "source": [
        "3. Repeat the previous steps, but instead of using *list* type objects, use **numpy arrays**.  Don't forget to **import** the numpy library!\n"
      ]
    },
    {
      "cell_type": "code",
      "metadata": {
        "id": "x9YyIMP6rrqt"
      },
      "source": [
        "import numpy as np\n",
        "\n",
        "lower_case = np.array([\"a\", \"b\", \"c\", \"d\", \"e\", \"f\", \"g\", \"h\", \"i\", \"j\", \"k\", \"l\", \"m\", \"n\", \"o\", \"p\", \"q\", \"r\", \"s\", \"t\", \"u\", \"v\", \"w\", \"x\", \"y\", \"z\"])\n",
        "\n",
        "upper_case = np.array([\"A\", \"B\", \"C\", \"D\", \"E\", \"F\", \"G\", \"H\", \"I\", \"J\", \"K\", \"L\", \"M\", \"N\", \"O\", \"P\", \"Q\", \"R\", \"S\", \"T\", \"U\", \"V\", \"W\", \"X\", \"Y\", \"Z\"])\n",
        "\n",
        "punctuation = np.array([\".\", \",\", \"!\", \"?\", \"'\", \"\\\"\", \"(\", \")\", \" \", \"-\", \";\", \":\"])\n",
        "\n",
        "## Use np.concatenate to combine into a long array\n",
        "all_symbols = np.concatenate((lower_case, upper_case, punctuation))"
      ],
      "execution_count": 6,
      "outputs": []
    },
    {
      "cell_type": "markdown",
      "metadata": {
        "id": "rpbAtPlXrrqt"
      },
      "source": [
        "4. Make a **pandas data frame**, with one column called \"Symbol\" containing the `all_symbols` array.\n"
      ]
    },
    {
      "cell_type": "code",
      "metadata": {
        "id": "K103ZvNVrrqu"
      },
      "source": [
        "import pandas as pd\n",
        "\n",
        "symbols_df = pd.DataFrame({'Symbol': all_symbols})"
      ],
      "execution_count": 8,
      "outputs": []
    },
    {
      "cell_type": "markdown",
      "metadata": {
        "id": "L-m2LLyHrrqu"
      },
      "source": [
        "## Part Two: Decoding the secret message.\n"
      ]
    },
    {
      "cell_type": "code",
      "metadata": {
        "id": "iP7Zj5hPrrqu",
        "colab": {
          "base_uri": "https://localhost:8080/"
        },
        "outputId": "bae88c11-5be1-413c-fd87-a741eab03bd5"
      },
      "source": [
        "top_secret_df = pd.read_csv(\"https://www.dropbox.com/s/k72h1zewk4gtqep/PA_Secret_Code?dl=1\", header=None)\n",
        "\n",
        "top_secret = top_secret_df[0].to_numpy()\n",
        "print(top_secret)"
      ],
      "execution_count": 15,
      "outputs": [
        {
          "output_type": "stream",
          "name": "stdout",
          "text": [
            "[0.39104271 0.38644508 0.37131377 0.33881179 0.37131377 0.39695721\n",
            " 0.35479413 0.37573224 0.3693288  0.37404822 0.37573224 0.37490299\n",
            " 0.37490299 0.40018665 0.40307943 0.37490299 0.38531114 0.38024665\n",
            " 0.40542    0.39915133 0.38644508 0.3858839  0.40757858 0.39457479\n",
            " 0.3924204  0.39196872 0.40368332 0.39330231 0.40052335 0.41099418\n",
            " 0.40597557 0.39915133 0.40214824 0.39695721 0.40246212 0.41362081\n",
            " 0.41403541 0.50672129 0.46904194 0.4189279  0.40513799 0.50677976\n",
            " 0.41403541 0.46026337 0.44516294 0.41006039 0.50685267 0.40485308\n",
            " 0.43565499 0.40982195 0.50691085 0.41751216 0.42308635 0.43400049\n",
            " 0.40933885 0.43181048 0.4148465  0.50701239 0.42481402 0.43765951\n",
            " 0.50705579 0.48348599 0.42352845 0.41751216 0.50711356 0.45815983\n",
            " 0.41403541 0.41504562 0.41927084 0.50976041 0.50719998 0.4658871\n",
            " 0.43527447 0.43546538 0.50725745 0.43809559 0.42943293 0.43843959\n",
            " 0.45144177 0.46293566 0.50734343 0.45947306 0.42367426 0.44995774\n",
            " 0.42424999 0.50741487 0.48431772 0.43001775 0.42536683 0.50747189\n",
            " 0.42293741 0.44482542 0.45095585 0.44509577 0.42990177 0.44536351\n",
            " 0.4588652  0.42772674 0.45350415 0.50123071 0.50762811 0.50764227\n",
            " 0.50765642 0.46785231 0.44462092 0.42859293 0.50771295 0.48499763\n",
            " 0.43449742 0.43059051 0.50776936 0.44371693 0.44754076 0.44399823\n",
            " 0.43170177 0.50783972 0.45345442 0.42966834 0.48534724 0.4365841\n",
            " 0.45560881 0.50792392 0.44874606 0.45931226 0.4855361  0.43630862\n",
            " 0.45443261 0.43191878 0.43245401 0.43479137 0.50082663 0.50806368\n",
            " 0.50547189 0.47106801 0.43574932 0.46349614 0.4337992  0.45547027\n",
            " 0.43649258 0.50817499 0.48603353 0.44033896 0.43721647 0.50823048\n",
            " 0.4824714  0.43556035 0.43603037 0.43621618 0.43826812 0.45655973\n",
            " 0.46451749 0.4519719  0.43757146 0.44615158 0.5021944  0.50839627\n",
            " 0.44944491 0.46797064 0.50843757 0.45898784 0.45290136 0.45149524\n",
            " 0.50325039 0.50850626 0.50851997 0.50853368 0.4945512  0.44420735\n",
            " 0.44151119 0.50858846 0.44698083 0.44009846 0.46595066 0.4601071\n",
            " 0.50865678 0.48709158 0.44543004 0.44104822 0.48718042 0.50872493\n",
            " 0.44173981 0.44716873 0.48729843 0.44371693 0.50270629 0.50880649\n",
            " 0.48741595 0.44685485 0.4444149  0.50886073 0.44357521 0.41582815\n",
            " 0.27777778 0.4519719  0.44135772 0.50615966 0.48130898 0.39330231\n",
            " 0.27777778 0.48130898 0.50615966 0.33881179 0.27777778 0.48130898\n",
            " 0.33881179 0.39330231 0.5004074  0.50615966 0.46290025 0.367191\n",
            " 0.4519719  0.27777778 0.43835399 0.367191   0.50615966 0.48130898\n",
            " 0.39330231 0.367191   0.50615966 0.47686216 0.44691791 0.31628595\n",
            " 0.40569917 0.44691791 0.31628595 0.50615966 0.31628595 0.39984581\n",
            " 0.43835399 0.35479413 0.499388   0.50615966 0.27777778 0.42439207\n",
            " 0.35479413 0.50615966 0.44135772 0.39330231 0.44691791 0.42439207\n",
            " 0.50615966 0.50615966 0.50615966 0.49048008 0.39330231 0.367191\n",
            " 0.50615966 0.37731997 0.43835399 0.44691791 0.42027496 0.39984581\n",
            " 0.42822501 0.44691791 0.44135772 0.50615966 0.46290025 0.27777778\n",
            " 0.42439207 0.35479413 0.367191   0.43835399 0.44135772 0.42439207\n",
            " 0.27777778 0.48130898 0.33881179 0.39330231 0.5004074  0.50335795\n",
            " 0.50615966 0.4736867  0.367191   0.50615966 0.48130898 0.42822501\n",
            " 0.42822501 0.41099418 0.50615966 0.39330231 0.39984581 0.44135772\n",
            " 0.50615966 0.44950236 0.42822501 0.43835399 0.43181048 0.27777778\n",
            " 0.41582815 0.50615966 0.44135772 0.4519719  0.42822501 0.43835399\n",
            " 0.35479413 0.50615966 0.39984581 0.42439207 0.50615966 0.39330231\n",
            " 0.27777778 0.42439207 0.35479413 0.50795193 0.50615966 0.50615966\n",
            " 0.50615966 0.4798659  0.42822501 0.42439207 0.3858839  0.50615966\n",
            " 0.48130898 0.39984581 0.42027496 0.367191   0.50615966 0.48130898\n",
            " 0.39330231 0.367191   0.50615966 0.42027496 0.27777778 0.42439207\n",
            " 0.45433632 0.42822501 0.42027496 0.367191   0.50615966 0.37731997\n",
            " 0.42822501 0.367191   0.50615966 0.39330231 0.367191   0.50615966\n",
            " 0.44135772 0.42822501 0.44691791 0.3858839  0.39330231 0.48130898\n",
            " 0.50706302 0.50615966 0.48925903 0.42822501 0.50615966 0.43835399\n",
            " 0.367191   0.44135772 0.48130898 0.367191   0.35479413 0.50615966\n",
            " 0.39330231 0.367191   0.50615966 0.31628595 0.45660421 0.50615966\n",
            " 0.48130898 0.39330231 0.367191   0.50615966 0.49048008 0.44691791\n",
            " 0.42027496 0.48130898 0.44691791 0.42027496 0.50615966 0.48130898\n",
            " 0.43835399 0.367191   0.367191   0.50615966 0.50615966 0.50615966\n",
            " 0.46087983 0.42439207 0.35479413 0.50615966 0.44135772 0.48130898\n",
            " 0.42822501 0.42822501 0.35479413 0.50615966 0.27777778 0.4519719\n",
            " 0.39330231 0.39984581 0.41582815 0.367191   0.50615966 0.39984581\n",
            " 0.42439207 0.50615966 0.48130898 0.41944073 0.43843959 0.45259498\n",
            " 0.41677629 0.41944073 0.48307774 0.49932124 0.50615966 0.46087983\n",
            " 0.42439207 0.35479413 0.499388   0.50615966 0.27777778 0.44135772\n",
            " 0.50615966 0.39984581 0.42439207 0.50615966 0.44691791 0.37731997\n",
            " 0.37731997 0.39984581 0.44135772 0.39330231 0.50615966 0.48130898\n",
            " 0.39330231 0.42822501 0.44691791 0.3858839  0.39330231 0.48130898\n",
            " 0.50615966 0.39330231 0.367191   0.50615966 0.44135772 0.48130898\n",
            " 0.42822501 0.42822501 0.35479413 0.499388   0.50615966 0.50615966\n",
            " 0.50615966 0.49048008 0.39330231 0.367191   0.50615966 0.47686216\n",
            " 0.27777778 0.31628595 0.31628595 0.367191   0.43835399 0.4519719\n",
            " 0.42822501 0.33881179 0.41099418 0.499388   0.50615966 0.4519719\n",
            " 0.39984581 0.48130898 0.39330231 0.39196872 0.32248439 0.367191\n",
            " 0.32248439 0.35956775 0.39196872 0.35300139 0.32754887 0.39196872\n",
            " 0.32754887 0.34680296 0.27777778 0.34902637 0.32248439 0.38858289\n",
            " 0.39196872 0.37131377 0.27777778 0.34902637 0.32248439 0.39196872\n",
            " 0.36487484 0.33554004 0.33881179 0.32754887 0.32754887 0.34680296\n",
            " 0.33881179 0.35108493 0.33183084 0.39196872 0.37954338 0.33554004\n",
            " 0.35806588 0.35300139 0.36234785 0.33183084 0.33554004 0.39196872\n",
            " 0.37954338 0.33554004 0.32248439 0.39196872 0.37954338 0.36234785\n",
            " 0.34680296 0.33183084 0.32248439 0.367191   0.39196872 0.36487484\n",
            " 0.35300139 0.35300139 0.31628595 0.38858289 0.39196872 0.39196872\n",
            " 0.39196872 0.3693288  0.35108493 0.31628595 0.39196872 0.29703187\n",
            " 0.36234785 0.35806588 0.29703187 0.34680296 0.32248439 0.31628595\n",
            " 0.39196872 0.27777778 0.35956775 0.39196872 0.33881179 0.37954338\n",
            " 0.39196872 0.30829479 0.27777778 0.34902637 0.32248439 0.38909259\n",
            " 0.39196872 0.38093256 0.35108493 0.32248439 0.38858289 0.39196872\n",
            " 0.37954338 0.36487484 0.35300139 0.38909259 0.39196872 0.38093256\n",
            " 0.35108493 0.32248439 0.38858289 0.39196872 0.37954338 0.36487484\n",
            " 0.35300139 0.38909259 0.39196872 0.3693288  0.35108493 0.31628595\n",
            " 0.39196872 0.37954338 0.33554004 0.33881179 0.33374731 0.34309376\n",
            " 0.31257675 0.31628595 0.37271463 0.25852369 0.33183084 0.29703187\n",
            " 0.37271463 0.36028929 0.31628595 0.33881179 0.33374731 0.34309376\n",
            " 0.31257675 0.31628595 0.37271463 0.37271463 0.37271463 0.36487484\n",
            " 0.31628595 0.3032303  0.37271463 0.34438598 0.33374731 0.33881179\n",
            " 0.33554004 0.25852369 0.32754887 0.37271463 0.27777778 0.32754887\n",
            " 0.25852369 0.29703187 0.3032303  0.37271463 0.34562075 0.3032303\n",
            " 0.33183084 0.36028929 0.37271463 0.34031366 0.33183084 0.31955771\n",
            " 0.2890407  0.32513189 0.3032303  0.33881179 0.37316631 0.34031366\n",
            " 0.33183084 0.25852369 0.2890407  0.32513189 0.3698385  0.37271463\n",
            " 0.35647815 0.3032303  0.37271463 0.32754887 0.3032303  0.30829479\n",
            " 0.36028929 0.37271463 0.31955771 0.36028929 0.37271463 0.29703187\n",
            " 0.3032303  0.25852369 0.29703187 0.3693288  0.37271463 0.25852369\n",
            " 0.33183084 0.29703187 0.37271463 0.34562075 0.31955771 0.36028929\n",
            " 0.31628595 0.37271463 0.31955771 0.36028929 0.34031366 0.37271463\n",
            " 0.31628595 0.3032303  0.25852369 0.29703187 0.37271463 0.37271463\n",
            " 0.37271463 0.35647815 0.3032303  0.37271463 0.34562075 0.3032303\n",
            " 0.33183084 0.36028929 0.37271463 0.31257675 0.25852369 0.32754887\n",
            " 0.34309376 0.32977228 0.33554004 0.31628595 0.31955771 0.33183084\n",
            " 0.31257675 0.37271463 0.27777778 0.25852369 0.2890407  0.32513189\n",
            " 0.36880958 0.37271463 0.37131377 0.35007471 0.33183084 0.29703187\n",
            " 0.37271463 0.31628595 0.25852369 0.34031366 0.36028929 0.37271463\n",
            " 0.36028929 0.31628595 0.33374731 0.34309376 0.37271463 0.34031366\n",
            " 0.32754887 0.25852369 0.31955771 0.33183084 0.37271463 0.36028929\n",
            " 0.31628595 0.3032303  0.37271463 0.35806588 0.25852369 0.27777778\n",
            " 0.27777778 0.3032303  0.33881179 0.34562075 0.33374731 0.2890407\n",
            " 0.32513189 0.37033901 0.37271463 0.37271463 0.37271463 0.35205968\n",
            " 0.33374731 0.32977228 0.3032303  0.37271463 0.36028929 0.33374731\n",
            " 0.37271463 0.32977228 0.34793691 0.37271463 0.25852369 0.33881179\n",
            " 0.32977228 0.34031366 0.3693288  0.37271463 0.32977228 0.34793691\n",
            " 0.37271463 0.27777778 0.3032303  0.25852369 0.32977228 0.31955771\n",
            " 0.34031366 0.31628595 0.37271463 0.27777778 0.33374731 0.34793691\n",
            " 0.3698385  0.37271463 0.36167847 0.37271463 0.30829479 0.33881179\n",
            " 0.25852369 0.27777778 0.32248439 0.33374731 0.34309376 0.34031366\n",
            " 0.37271463 0.29703187 0.25852369 0.34793691 0.3698385  0.37271463\n",
            " 0.35205968 0.25852369 0.32754887 0.32754887 0.33374731 0.33374731\n",
            " 0.31628595 0.3698385  0.37271463 0.35205968 0.25852369 0.32754887\n",
            " 0.32754887 0.25852369 0.34793691 0.3698385  0.37131377 0.37271463\n",
            " 0.37271463 0.37271463 0.35647815 0.3032303  0.37271463 0.2890407\n",
            " 0.31628595 0.33374731 0.33881179 0.36028929 0.32754887 0.3032303\n",
            " 0.29703187 0.37271463 0.31955771 0.33183084 0.37271463 0.31628595\n",
            " 0.31955771 0.34031366 0.37271463 0.32248439 0.33374731 0.34793691\n",
            " 0.36880958 0.37271463 0.37083067 0.36487484 0.34562075 0.25852369\n",
            " 0.34031366 0.37271463 0.27777778 0.33881179 0.31955771 0.32754887\n",
            " 0.32754887 0.31955771 0.31257675 0.3693288  0.37271463 0.25852369\n",
            " 0.33183084 0.29703187 0.37271463 0.36028929 0.31628595 0.3032303\n",
            " 0.37271463 0.34031366 0.32754887 0.31955771 0.36028929 0.31628595\n",
            " 0.34793691 0.37271463 0.36028929 0.33374731 0.34438598 0.3032303\n",
            " 0.34031366 0.37271463 0.37271463 0.37271463 0.35300139 0.31955771\n",
            " 0.29703187 0.37271463 0.31257675 0.34793691 0.33881179 0.3032303\n",
            " 0.37271463 0.25852369 0.33183084 0.29703187 0.37271463 0.31257675\n",
            " 0.31955771 0.32977228 0.27777778 0.32754887 0.3032303  0.37271463\n",
            " 0.31955771 0.33183084 0.37271463 0.36028929 0.31628595 0.3032303\n",
            " 0.37271463 0.34562075 0.25852369 0.27777778 0.3032303  0.37404822\n",
            " 0.37271463 0.35007471 0.32754887 0.32754887 0.37271463 0.32977228\n",
            " 0.31955771 0.32977228 0.34031366 0.34793691 0.37271463 0.34562075\n",
            " 0.3032303  0.33881179 0.3032303  0.37271463 0.36028929 0.31628595\n",
            " 0.3032303  0.37271463 0.27777778 0.33374731 0.33881179 0.33374731\n",
            " 0.31257675 0.33374731 0.34438598 0.3032303  0.34031366 0.3693288\n",
            " 0.37271463 0.37271463 0.37271463 0.35007471 0.33183084 0.29703187\n",
            " 0.37271463 0.36028929 0.31628595 0.3032303  0.37271463 0.32977228\n",
            " 0.33374731 0.32977228 0.3032303  0.37271463 0.33881179 0.25852369\n",
            " 0.36028929 0.31628595 0.34031366 0.37271463 0.33374731 0.34309376\n",
            " 0.36028929 0.31257675 0.33881179 0.25852369 0.27777778 0.3032303\n",
            " 0.36880958]\n"
          ]
        }
      ]
    },
    {
      "cell_type": "markdown",
      "metadata": {
        "id": "T3ui38Z9rrqu"
      },
      "source": [
        "### Hint\n",
        "\n",
        "Recall that basic math operations are **vectorized**.  This means you don't have to repeat the process for each item in a list; you can apply the math to the whole thing at once.\n",
        "\n",
        "### Instructions\n",
        "\n",
        "By altering this top secret set of numbers, you will be able to create a message.  Write your own code to complete the steps below.\n",
        "\n",
        "1. Add 14 to every number.\n",
        "2. Multiply every number by 18, then subtract 257.\n",
        "3. Exponentiate every number.  (That is, do e^[number].  You may have to Google how to do this!)\n",
        "4. Square every number.\n",
        "\n",
        "**Checkpoint:** Headquarters has informed you that at this stage of decoding, there should be 352 numbers in the secret message that are below 17.  Write code to check if this is true for your data.\n",
        "\n",
        "\n",
        "5. Turn your one-dimensional array of numbers into a two-dimensional array (matrix) with 5 columns.\n",
        "6. Separately from your top secret numbers, create an array of all the even numbers between 1 and 382. Name it \"evens\". That is, \"evens\" should contain 2, 4, 6, 8 ..., 382.\n",
        "7. Subtract the \"evens\" vector from the first column of your secret message matrix.\n",
        "8. Subtract 100 from all numbers in the 18-24th rows of the 3rd column.\n",
        "9. Multiply all numbers in the 4th and 5th column by 2.\n",
        "10. Turn your matrix back into a one dimensional array.\n",
        "\n",
        "\n",
        "**Checkpoint:** Headquarters has informed you that at this stage of decoding, all numbers in indices 500 and beyond are below 100.  Write code to check if your numbers fulfill this requirement.\n",
        "\n",
        "11. Take the square root of all numbers in indices 37 to 464.\n",
        "12. Round all numbers to the nearest whole number.\n",
        "13. Replace all instances of the number 39 with 20.\n",
        "\n",
        "**Checkpoint:** Headquarters has informed you that your final message should have 344 even numbers.  Write code to check if your numbers fulfill this requirement.\n",
        "\n",
        "## Part 3: The secret message!\n",
        "\n",
        "Run the following to discover the final message!  Google the first line of this message, if you do not recognize it, to see what it is.\n"
      ]
    },
    {
      "cell_type": "code",
      "source": [
        "top_secret += 14\n",
        "top_secret = (top_secret * 18) - 257\n",
        "top_secret = np.exp(top_secret)\n",
        "top_secret = top_secret**2\n",
        "checkpoint1 = np.sum(top_secret < 17)\n",
        "print(checkpoint1 == 352)"
      ],
      "metadata": {
        "colab": {
          "base_uri": "https://localhost:8080/"
        },
        "id": "I--ZtDx2vHwT",
        "outputId": "2241da81-a269-4ae5-8670-08656d406a25"
      },
      "execution_count": 16,
      "outputs": [
        {
          "output_type": "stream",
          "name": "stdout",
          "text": [
            "True\n"
          ]
        }
      ]
    },
    {
      "cell_type": "code",
      "source": [
        "top_secret1 = top_secret.reshape(-1, 5)\n",
        "evens = np.arange(2, 383, 2)\n",
        "top_secret1[:, 0] -= evens\n",
        "top_secret1[17:24, 2] -= 100\n",
        "top_secret1[:, 3:] *= 2\n",
        "top_secret = top_secret1.flatten()\n",
        "checkpoint2 = np.all(top_secret[500:] < 100)\n",
        "print(checkpoint2)"
      ],
      "metadata": {
        "colab": {
          "base_uri": "https://localhost:8080/"
        },
        "id": "HMJ0jvhXva64",
        "outputId": "6b1c5dc6-2343-40f7-dca3-c0b822f21b16"
      },
      "execution_count": 17,
      "outputs": [
        {
          "output_type": "stream",
          "name": "stdout",
          "text": [
            "False\n"
          ]
        }
      ]
    },
    {
      "cell_type": "code",
      "source": [
        "top_secret[37:465] = np.sqrt(top_secret[37:465])\n",
        "top_secret = np.round(top_secret)\n",
        "top_secret[top_secret == 39] = 20\n",
        "checkpoint3 = np.sum(top_secret % 2 == 0)\n",
        "print(checkpoint3 == 344)"
      ],
      "metadata": {
        "colab": {
          "base_uri": "https://localhost:8080/"
        },
        "id": "Jp0bO_IXv057",
        "outputId": "d42003b7-c55b-40ba-d95f-c2b72ec6940e"
      },
      "execution_count": 18,
      "outputs": [
        {
          "output_type": "stream",
          "name": "stdout",
          "text": [
            "False\n"
          ]
        },
        {
          "output_type": "stream",
          "name": "stderr",
          "text": [
            "<ipython-input-18-beeda1df55a1>:1: RuntimeWarning: invalid value encountered in sqrt\n",
            "  top_secret[37:465] = np.sqrt(top_secret[37:465])\n"
          ]
        }
      ]
    },
    {
      "cell_type": "code",
      "metadata": {
        "id": "v_bB8VNvrrqu",
        "colab": {
          "base_uri": "https://localhost:8080/",
          "height": 417
        },
        "outputId": "e2c41501-30ee-41bf-cfad-c976b728fef6"
      },
      "source": [
        "''.join(map(str, symbols_df.loc[top_secret]['Symbol']))"
      ],
      "execution_count": 19,
      "outputs": [
        {
          "output_type": "error",
          "ename": "KeyError",
          "evalue": "ignored",
          "traceback": [
            "\u001b[0;31m---------------------------------------------------------------------------\u001b[0m",
            "\u001b[0;31mKeyError\u001b[0m                                  Traceback (most recent call last)",
            "\u001b[0;32m<ipython-input-19-664a0d8d5c3b>\u001b[0m in \u001b[0;36m<cell line: 1>\u001b[0;34m()\u001b[0m\n\u001b[0;32m----> 1\u001b[0;31m \u001b[0;34m''\u001b[0m\u001b[0;34m.\u001b[0m\u001b[0mjoin\u001b[0m\u001b[0;34m(\u001b[0m\u001b[0mmap\u001b[0m\u001b[0;34m(\u001b[0m\u001b[0mstr\u001b[0m\u001b[0;34m,\u001b[0m \u001b[0msymbols_df\u001b[0m\u001b[0;34m.\u001b[0m\u001b[0mloc\u001b[0m\u001b[0;34m[\u001b[0m\u001b[0mtop_secret\u001b[0m\u001b[0;34m]\u001b[0m\u001b[0;34m[\u001b[0m\u001b[0;34m'Symbol'\u001b[0m\u001b[0;34m]\u001b[0m\u001b[0;34m)\u001b[0m\u001b[0;34m)\u001b[0m\u001b[0;34m\u001b[0m\u001b[0;34m\u001b[0m\u001b[0m\n\u001b[0m",
            "\u001b[0;32m/usr/local/lib/python3.10/dist-packages/pandas/core/indexing.py\u001b[0m in \u001b[0;36m__getitem__\u001b[0;34m(self, key)\u001b[0m\n\u001b[1;32m   1071\u001b[0m \u001b[0;34m\u001b[0m\u001b[0m\n\u001b[1;32m   1072\u001b[0m             \u001b[0mmaybe_callable\u001b[0m \u001b[0;34m=\u001b[0m \u001b[0mcom\u001b[0m\u001b[0;34m.\u001b[0m\u001b[0mapply_if_callable\u001b[0m\u001b[0;34m(\u001b[0m\u001b[0mkey\u001b[0m\u001b[0;34m,\u001b[0m \u001b[0mself\u001b[0m\u001b[0;34m.\u001b[0m\u001b[0mobj\u001b[0m\u001b[0;34m)\u001b[0m\u001b[0;34m\u001b[0m\u001b[0;34m\u001b[0m\u001b[0m\n\u001b[0;32m-> 1073\u001b[0;31m             \u001b[0;32mreturn\u001b[0m \u001b[0mself\u001b[0m\u001b[0;34m.\u001b[0m\u001b[0m_getitem_axis\u001b[0m\u001b[0;34m(\u001b[0m\u001b[0mmaybe_callable\u001b[0m\u001b[0;34m,\u001b[0m \u001b[0maxis\u001b[0m\u001b[0;34m=\u001b[0m\u001b[0maxis\u001b[0m\u001b[0;34m)\u001b[0m\u001b[0;34m\u001b[0m\u001b[0;34m\u001b[0m\u001b[0m\n\u001b[0m\u001b[1;32m   1074\u001b[0m \u001b[0;34m\u001b[0m\u001b[0m\n\u001b[1;32m   1075\u001b[0m     \u001b[0;32mdef\u001b[0m \u001b[0m_is_scalar_access\u001b[0m\u001b[0;34m(\u001b[0m\u001b[0mself\u001b[0m\u001b[0;34m,\u001b[0m \u001b[0mkey\u001b[0m\u001b[0;34m:\u001b[0m \u001b[0mtuple\u001b[0m\u001b[0;34m)\u001b[0m\u001b[0;34m:\u001b[0m\u001b[0;34m\u001b[0m\u001b[0;34m\u001b[0m\u001b[0m\n",
            "\u001b[0;32m/usr/local/lib/python3.10/dist-packages/pandas/core/indexing.py\u001b[0m in \u001b[0;36m_getitem_axis\u001b[0;34m(self, key, axis)\u001b[0m\n\u001b[1;32m   1299\u001b[0m                     \u001b[0;32mraise\u001b[0m \u001b[0mValueError\u001b[0m\u001b[0;34m(\u001b[0m\u001b[0;34m\"Cannot index with multidimensional key\"\u001b[0m\u001b[0;34m)\u001b[0m\u001b[0;34m\u001b[0m\u001b[0;34m\u001b[0m\u001b[0m\n\u001b[1;32m   1300\u001b[0m \u001b[0;34m\u001b[0m\u001b[0m\n\u001b[0;32m-> 1301\u001b[0;31m                 \u001b[0;32mreturn\u001b[0m \u001b[0mself\u001b[0m\u001b[0;34m.\u001b[0m\u001b[0m_getitem_iterable\u001b[0m\u001b[0;34m(\u001b[0m\u001b[0mkey\u001b[0m\u001b[0;34m,\u001b[0m \u001b[0maxis\u001b[0m\u001b[0;34m=\u001b[0m\u001b[0maxis\u001b[0m\u001b[0;34m)\u001b[0m\u001b[0;34m\u001b[0m\u001b[0;34m\u001b[0m\u001b[0m\n\u001b[0m\u001b[1;32m   1302\u001b[0m \u001b[0;34m\u001b[0m\u001b[0m\n\u001b[1;32m   1303\u001b[0m             \u001b[0;31m# nested tuple slicing\u001b[0m\u001b[0;34m\u001b[0m\u001b[0;34m\u001b[0m\u001b[0m\n",
            "\u001b[0;32m/usr/local/lib/python3.10/dist-packages/pandas/core/indexing.py\u001b[0m in \u001b[0;36m_getitem_iterable\u001b[0;34m(self, key, axis)\u001b[0m\n\u001b[1;32m   1237\u001b[0m \u001b[0;34m\u001b[0m\u001b[0m\n\u001b[1;32m   1238\u001b[0m         \u001b[0;31m# A collection of keys\u001b[0m\u001b[0;34m\u001b[0m\u001b[0;34m\u001b[0m\u001b[0m\n\u001b[0;32m-> 1239\u001b[0;31m         \u001b[0mkeyarr\u001b[0m\u001b[0;34m,\u001b[0m \u001b[0mindexer\u001b[0m \u001b[0;34m=\u001b[0m \u001b[0mself\u001b[0m\u001b[0;34m.\u001b[0m\u001b[0m_get_listlike_indexer\u001b[0m\u001b[0;34m(\u001b[0m\u001b[0mkey\u001b[0m\u001b[0;34m,\u001b[0m \u001b[0maxis\u001b[0m\u001b[0;34m)\u001b[0m\u001b[0;34m\u001b[0m\u001b[0;34m\u001b[0m\u001b[0m\n\u001b[0m\u001b[1;32m   1240\u001b[0m         return self.obj._reindex_with_indexers(\n\u001b[1;32m   1241\u001b[0m             \u001b[0;34m{\u001b[0m\u001b[0maxis\u001b[0m\u001b[0;34m:\u001b[0m \u001b[0;34m[\u001b[0m\u001b[0mkeyarr\u001b[0m\u001b[0;34m,\u001b[0m \u001b[0mindexer\u001b[0m\u001b[0;34m]\u001b[0m\u001b[0;34m}\u001b[0m\u001b[0;34m,\u001b[0m \u001b[0mcopy\u001b[0m\u001b[0;34m=\u001b[0m\u001b[0;32mTrue\u001b[0m\u001b[0;34m,\u001b[0m \u001b[0mallow_dups\u001b[0m\u001b[0;34m=\u001b[0m\u001b[0;32mTrue\u001b[0m\u001b[0;34m\u001b[0m\u001b[0;34m\u001b[0m\u001b[0m\n",
            "\u001b[0;32m/usr/local/lib/python3.10/dist-packages/pandas/core/indexing.py\u001b[0m in \u001b[0;36m_get_listlike_indexer\u001b[0;34m(self, key, axis)\u001b[0m\n\u001b[1;32m   1430\u001b[0m         \u001b[0maxis_name\u001b[0m \u001b[0;34m=\u001b[0m \u001b[0mself\u001b[0m\u001b[0;34m.\u001b[0m\u001b[0mobj\u001b[0m\u001b[0;34m.\u001b[0m\u001b[0m_get_axis_name\u001b[0m\u001b[0;34m(\u001b[0m\u001b[0maxis\u001b[0m\u001b[0;34m)\u001b[0m\u001b[0;34m\u001b[0m\u001b[0;34m\u001b[0m\u001b[0m\n\u001b[1;32m   1431\u001b[0m \u001b[0;34m\u001b[0m\u001b[0m\n\u001b[0;32m-> 1432\u001b[0;31m         \u001b[0mkeyarr\u001b[0m\u001b[0;34m,\u001b[0m \u001b[0mindexer\u001b[0m \u001b[0;34m=\u001b[0m \u001b[0max\u001b[0m\u001b[0;34m.\u001b[0m\u001b[0m_get_indexer_strict\u001b[0m\u001b[0;34m(\u001b[0m\u001b[0mkey\u001b[0m\u001b[0;34m,\u001b[0m \u001b[0maxis_name\u001b[0m\u001b[0;34m)\u001b[0m\u001b[0;34m\u001b[0m\u001b[0;34m\u001b[0m\u001b[0m\n\u001b[0m\u001b[1;32m   1433\u001b[0m \u001b[0;34m\u001b[0m\u001b[0m\n\u001b[1;32m   1434\u001b[0m         \u001b[0;32mreturn\u001b[0m \u001b[0mkeyarr\u001b[0m\u001b[0;34m,\u001b[0m \u001b[0mindexer\u001b[0m\u001b[0;34m\u001b[0m\u001b[0;34m\u001b[0m\u001b[0m\n",
            "\u001b[0;32m/usr/local/lib/python3.10/dist-packages/pandas/core/indexes/base.py\u001b[0m in \u001b[0;36m_get_indexer_strict\u001b[0;34m(self, key, axis_name)\u001b[0m\n\u001b[1;32m   6068\u001b[0m             \u001b[0mkeyarr\u001b[0m\u001b[0;34m,\u001b[0m \u001b[0mindexer\u001b[0m\u001b[0;34m,\u001b[0m \u001b[0mnew_indexer\u001b[0m \u001b[0;34m=\u001b[0m \u001b[0mself\u001b[0m\u001b[0;34m.\u001b[0m\u001b[0m_reindex_non_unique\u001b[0m\u001b[0;34m(\u001b[0m\u001b[0mkeyarr\u001b[0m\u001b[0;34m)\u001b[0m\u001b[0;34m\u001b[0m\u001b[0;34m\u001b[0m\u001b[0m\n\u001b[1;32m   6069\u001b[0m \u001b[0;34m\u001b[0m\u001b[0m\n\u001b[0;32m-> 6070\u001b[0;31m         \u001b[0mself\u001b[0m\u001b[0;34m.\u001b[0m\u001b[0m_raise_if_missing\u001b[0m\u001b[0;34m(\u001b[0m\u001b[0mkeyarr\u001b[0m\u001b[0;34m,\u001b[0m \u001b[0mindexer\u001b[0m\u001b[0;34m,\u001b[0m \u001b[0maxis_name\u001b[0m\u001b[0;34m)\u001b[0m\u001b[0;34m\u001b[0m\u001b[0;34m\u001b[0m\u001b[0m\n\u001b[0m\u001b[1;32m   6071\u001b[0m \u001b[0;34m\u001b[0m\u001b[0m\n\u001b[1;32m   6072\u001b[0m         \u001b[0mkeyarr\u001b[0m \u001b[0;34m=\u001b[0m \u001b[0mself\u001b[0m\u001b[0;34m.\u001b[0m\u001b[0mtake\u001b[0m\u001b[0;34m(\u001b[0m\u001b[0mindexer\u001b[0m\u001b[0;34m)\u001b[0m\u001b[0;34m\u001b[0m\u001b[0;34m\u001b[0m\u001b[0m\n",
            "\u001b[0;32m/usr/local/lib/python3.10/dist-packages/pandas/core/indexes/base.py\u001b[0m in \u001b[0;36m_raise_if_missing\u001b[0;34m(self, key, indexer, axis_name)\u001b[0m\n\u001b[1;32m   6131\u001b[0m \u001b[0;34m\u001b[0m\u001b[0m\n\u001b[1;32m   6132\u001b[0m             \u001b[0mnot_found\u001b[0m \u001b[0;34m=\u001b[0m \u001b[0mlist\u001b[0m\u001b[0;34m(\u001b[0m\u001b[0mensure_index\u001b[0m\u001b[0;34m(\u001b[0m\u001b[0mkey\u001b[0m\u001b[0;34m)\u001b[0m\u001b[0;34m[\u001b[0m\u001b[0mmissing_mask\u001b[0m\u001b[0;34m.\u001b[0m\u001b[0mnonzero\u001b[0m\u001b[0;34m(\u001b[0m\u001b[0;34m)\u001b[0m\u001b[0;34m[\u001b[0m\u001b[0;36m0\u001b[0m\u001b[0;34m]\u001b[0m\u001b[0;34m]\u001b[0m\u001b[0;34m.\u001b[0m\u001b[0munique\u001b[0m\u001b[0;34m(\u001b[0m\u001b[0;34m)\u001b[0m\u001b[0;34m)\u001b[0m\u001b[0;34m\u001b[0m\u001b[0;34m\u001b[0m\u001b[0m\n\u001b[0;32m-> 6133\u001b[0;31m             \u001b[0;32mraise\u001b[0m \u001b[0mKeyError\u001b[0m\u001b[0;34m(\u001b[0m\u001b[0;34mf\"{not_found} not in index\"\u001b[0m\u001b[0;34m)\u001b[0m\u001b[0;34m\u001b[0m\u001b[0;34m\u001b[0m\u001b[0m\n\u001b[0m\u001b[1;32m   6134\u001b[0m \u001b[0;34m\u001b[0m\u001b[0m\n\u001b[1;32m   6135\u001b[0m     \u001b[0;34m@\u001b[0m\u001b[0moverload\u001b[0m\u001b[0;34m\u001b[0m\u001b[0;34m\u001b[0m\u001b[0m\n",
            "\u001b[0;31mKeyError\u001b[0m: '[69.0, 64.0, 164.0, 182.0, 198.0, 158.0, 107.0, 134.0, 124.0, 93.0, 166.0, 242.0, 87.0, 79.0, 88.0, 146.0, 178.0, 117.0, 135.0, 92.0, 89.0, 90.0, 80.0, 81.0, 91.0, nan, 86.0, 65.0, 78.0, 82.0, 76.0, -127.0, -129.0, 122.0, -180.0, 108.0, -133.0, -135.0, -192.0, -139.0, -181.0, -196.0, -194.0, -185.0, -149.0, -208.0, -212.0, -215.0, -157.0, -165.0, -168.0, -169.0, -172.0, -173.0, -222.0, -227.0, -207.0, -238.0, -234.0, -235.0, -248.0, -251.0, -237.0, -253.0, -233.0, -231.0, -262.0, -259.0, -268.0, -266.0, -245.0, -252.0, -278.0, -263.0, -274.0, -281.0, -286.0, -289.0, -290.0, -265.0, -285.0, -271.0, -299.0, -298.0, -277.0, -305.0, -310.0, -308.0, -318.0, -293.0, -316.0, -324.0, -322.0, -309.0, -333.0, -331.0, -338.0, -323.0, -336.0, -315.0, -317.0, -319.0, -348.0, -352.0, -337.0, -358.0, -347.0, -357.0, -353.0, -360.0, -359.0, -341.0, -343.0, -369.0, -349.0, -373.0] not in index'"
          ]
        }
      ]
    },
    {
      "cell_type": "code",
      "source": [],
      "metadata": {
        "id": "PV520Oahtela"
      },
      "execution_count": null,
      "outputs": []
    }
  ],
  "metadata": {
    "kernelspec": {
      "name": "python3",
      "language": "python",
      "display_name": "Python 3 (ipykernel)"
    },
    "colab": {
      "provenance": []
    }
  },
  "nbformat": 4,
  "nbformat_minor": 0
}